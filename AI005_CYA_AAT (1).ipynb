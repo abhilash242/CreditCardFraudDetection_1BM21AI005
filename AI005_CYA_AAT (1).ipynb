{
  "nbformat": 4,
  "nbformat_minor": 0,
  "metadata": {
    "colab": {
      "provenance": [],
      "gpuType": "V28"
    },
    "kernelspec": {
      "name": "python3",
      "display_name": "Python 3"
    },
    "language_info": {
      "name": "python"
    },
    "accelerator": "TPU"
  },
  "cells": [
    {
      "cell_type": "markdown",
      "source": [
        "AI in Cybersecurity: Credit Card Fraud Detection Assignment\n",
        "\n",
        "Analayse the code with the following algorithms\n",
        "1.   Random Forest\n",
        "2.   XGBOOST\n",
        "\n",
        "Also experiment with SMOTE"
      ],
      "metadata": {
        "id": "UAFZ1-Pvo4dj"
      }
    },
    {
      "cell_type": "code",
      "source": [
        "from sklearn.ensemble import RandomForestClassifier\n",
        "from sklearn.model_selection import GridSearchCV, KFold, train_test_split\n",
        "from sklearn import metrics\n",
        "from sklearn.metrics import roc_auc_score, recall_score\n",
        "import pandas as pd\n",
        "import numpy as np\n",
        "import matplotlib.pyplot as plt\n",
        "data = pd.read_csv('/content/creditcard.csv')"
      ],
      "metadata": {
        "id": "n9tUBAFU6W43"
      },
      "execution_count": null,
      "outputs": []
    },
    {
      "cell_type": "code",
      "source": [
        "\n",
        "new_data = data.sample(n=50000, random_state=42)\n"
      ],
      "metadata": {
        "id": "CSs89CxHG1ch"
      },
      "execution_count": null,
      "outputs": []
    },
    {
      "cell_type": "markdown",
      "source": [
        "## Random Forest Implementation"
      ],
      "metadata": {
        "id": "QkDCGdUanJP_"
      }
    },
    {
      "cell_type": "code",
      "execution_count": null,
      "metadata": {
        "colab": {
          "base_uri": "https://localhost:8080/"
        },
        "id": "cEvr-LXG03Xn",
        "outputId": "cf1cfcb0-f23b-4432-99f1-0c0435238a1e"
      },
      "outputs": [
        {
          "output_type": "stream",
          "name": "stdout",
          "text": [
            "Fitting 3 folds for each of 27 candidates, totalling 81 fits\n",
            "BEST GRID SCORE 0.9826335961654982\n",
            "BEST GRID PARAMS\n",
            "{'max_depth': 10, 'min_samples_split': 5, 'n_estimators': 200}\n"
          ]
        }
      ],
      "source": [
        "\n",
        "X = new_data.drop(columns=['Class'])\n",
        "y = new_data['Class']\n",
        "\n",
        "X_train, X_test, y_train, y_test = train_test_split(X, y, test_size=0.2, random_state=42, stratify=y)\n",
        "\n",
        "rf = RandomForestClassifier(random_state=42)\n",
        "\n",
        "cv = KFold(3, shuffle=True, random_state=42)\n",
        "\n",
        "param_grid = {\n",
        "    'n_estimators': [50, 100, 200],\n",
        "    'max_depth': [None, 10, 20],\n",
        "    'min_samples_split': [2, 5, 10]\n",
        "}\n",
        "\n",
        "\n",
        "grid = GridSearchCV(rf,\n",
        "                    param_grid=param_grid,\n",
        "                    scoring='roc_auc',\n",
        "                    cv=cv,\n",
        "                    n_jobs=-1,\n",
        "                    verbose=1000)\n",
        "\n",
        "# Fitting the grid search\n",
        "grid.fit(X_train, y_train)\n",
        "\n",
        "print(\"BEST GRID SCORE\", grid.best_score_)\n",
        "print(\"BEST GRID PARAMS\")\n",
        "print(grid.best_params_)\n",
        "\n",
        "# Taking the best estimator and fitting data\n",
        "best_rf = grid.best_estimator_\n",
        "best_rf.fit(X_train, y_train)\n",
        "\n",
        "# Taking probabilities for model evaluation with different thresholds\n",
        "y_pred_proba_test = best_rf.predict_proba(X_test)\n",
        "\n",
        "\n"
      ]
    },
    {
      "cell_type": "code",
      "source": [
        "# Function to evaluate the model\n",
        "def model_evaluation(y_pred_proba_test):\n",
        "    # Report for different thresholds\n",
        "    thresholds = [i * 0.1 for i in range(0, 10)]\n",
        "    print(\"----------------------------Results----------------------------\")\n",
        "    # Best ROC score initialization\n",
        "    best_roc_score = 0\n",
        "\n",
        "    # Iterating through every threshold from 0.1 to 0.9\n",
        "    for threshold in thresholds:\n",
        "        y_pred = np.where(y_pred_proba_test[:, 1] > threshold, 1, 0)\n",
        "        # Calculating different metrics\n",
        "        accuracy = str(round(metrics.accuracy_score(y_test, y_pred), 3))\n",
        "        precision = str(round(metrics.precision_score(y_test, y_pred), 3))\n",
        "        recall = str(round(metrics.recall_score(y_test, y_pred), 3))\n",
        "        roc_auc = str(round(metrics.roc_auc_score(y_test, y_pred), 3))\n",
        "        # Setting the best roc score, threshold, recall scores.\n",
        "        if float(roc_auc) > best_roc_score:\n",
        "            best_roc_score = float(roc_auc)\n",
        "            best_threshold = threshold\n",
        "            best_recall_score = recall\n",
        "        # Printing the results for every threshold\n",
        "        print(\"----------for Test with threshold\", round(threshold, 2), \"----------\")\n",
        "        print(\"accuracy\\tprecision\\trecall\\t\\troc_auc\")\n",
        "        print(\"\\t\\t\".join([accuracy, precision, recall, roc_auc]))\n",
        "        print(\"\\n\")\n",
        "        # Confusion Matrix\n",
        "        print(\"\\t\\tCONFUSION MATRIX\")\n",
        "        confusion_matrix = pd.DataFrame(metrics.confusion_matrix(y_test, y_pred),\n",
        "                                        columns=['Predicted Negative', 'Predicted Positive'],\n",
        "                                        index=['Actual Negative', 'Actual Positive'])\n",
        "        print(confusion_matrix)\n",
        "        print(\"\\n\")\n",
        "    print(\"BEST ROC AUC SCORE is \", best_roc_score, \"at the threshold\", best_threshold)\n",
        "    return best_roc_score, best_threshold, best_recall_score\n",
        "\n",
        "# Model evaluation\n",
        "best_roc_score, best_threshold, best_recall_score = model_evaluation(y_pred_proba_test)\n",
        "\n"
      ],
      "metadata": {
        "id": "Uo3_bZmt4F3i",
        "colab": {
          "base_uri": "https://localhost:8080/"
        },
        "outputId": "f8c1a490-10db-4b37-f029-247035333bd7"
      },
      "execution_count": null,
      "outputs": [
        {
          "output_type": "stream",
          "name": "stdout",
          "text": [
            "----------------------------Results----------------------------\n",
            "----------for Test with threshold 0.0 ----------\n",
            "accuracy\tprecision\trecall\t\troc_auc\n",
            "0.002\t\t0.002\t\t1.0\t\t0.5\n",
            "\n",
            "\n",
            "\t\tCONFUSION MATRIX\n",
            "                 Predicted Negative  Predicted Positive\n",
            "Actual Negative                   0                9983\n",
            "Actual Positive                   0                  17\n",
            "\n",
            "\n",
            "----------for Test with threshold 0.1 ----------\n",
            "accuracy\tprecision\trecall\t\troc_auc\n",
            "0.999\t\t0.619\t\t0.765\t\t0.882\n",
            "\n",
            "\n",
            "\t\tCONFUSION MATRIX\n",
            "                 Predicted Negative  Predicted Positive\n",
            "Actual Negative                9975                   8\n",
            "Actual Positive                   4                  13\n",
            "\n",
            "\n",
            "----------for Test with threshold 0.2 ----------\n",
            "accuracy\tprecision\trecall\t\troc_auc\n",
            "0.999\t\t0.812\t\t0.765\t\t0.882\n",
            "\n",
            "\n",
            "\t\tCONFUSION MATRIX\n",
            "                 Predicted Negative  Predicted Positive\n",
            "Actual Negative                9980                   3\n",
            "Actual Positive                   4                  13\n",
            "\n",
            "\n",
            "----------for Test with threshold 0.3 ----------\n",
            "accuracy\tprecision\trecall\t\troc_auc\n",
            "0.999\t\t0.812\t\t0.765\t\t0.882\n",
            "\n",
            "\n",
            "\t\tCONFUSION MATRIX\n",
            "                 Predicted Negative  Predicted Positive\n",
            "Actual Negative                9980                   3\n",
            "Actual Positive                   4                  13\n",
            "\n",
            "\n",
            "----------for Test with threshold 0.4 ----------\n",
            "accuracy\tprecision\trecall\t\troc_auc\n",
            "0.999\t\t0.923\t\t0.706\t\t0.853\n",
            "\n",
            "\n",
            "\t\tCONFUSION MATRIX\n",
            "                 Predicted Negative  Predicted Positive\n",
            "Actual Negative                9982                   1\n",
            "Actual Positive                   5                  12\n",
            "\n",
            "\n",
            "----------for Test with threshold 0.5 ----------\n",
            "accuracy\tprecision\trecall\t\troc_auc\n",
            "0.999\t\t0.917\t\t0.647\t\t0.823\n",
            "\n",
            "\n",
            "\t\tCONFUSION MATRIX\n",
            "                 Predicted Negative  Predicted Positive\n",
            "Actual Negative                9982                   1\n",
            "Actual Positive                   6                  11\n",
            "\n",
            "\n",
            "----------for Test with threshold 0.6 ----------\n",
            "accuracy\tprecision\trecall\t\troc_auc\n",
            "0.999\t\t0.909\t\t0.588\t\t0.794\n",
            "\n",
            "\n",
            "\t\tCONFUSION MATRIX\n",
            "                 Predicted Negative  Predicted Positive\n",
            "Actual Negative                9982                   1\n",
            "Actual Positive                   7                  10\n",
            "\n",
            "\n",
            "----------for Test with threshold 0.7 ----------\n",
            "accuracy\tprecision\trecall\t\troc_auc\n",
            "0.999\t\t0.875\t\t0.412\t\t0.706\n",
            "\n",
            "\n",
            "\t\tCONFUSION MATRIX\n",
            "                 Predicted Negative  Predicted Positive\n",
            "Actual Negative                9982                   1\n",
            "Actual Positive                  10                   7\n",
            "\n",
            "\n",
            "----------for Test with threshold 0.8 ----------\n",
            "accuracy\tprecision\trecall\t\troc_auc\n",
            "0.999\t\t0.8\t\t0.235\t\t0.618\n",
            "\n",
            "\n",
            "\t\tCONFUSION MATRIX\n",
            "                 Predicted Negative  Predicted Positive\n",
            "Actual Negative                9982                   1\n",
            "Actual Positive                  13                   4\n",
            "\n",
            "\n",
            "----------for Test with threshold 0.9 ----------\n",
            "accuracy\tprecision\trecall\t\troc_auc\n",
            "0.998\t\t1.0\t\t0.059\t\t0.529\n",
            "\n",
            "\n",
            "\t\tCONFUSION MATRIX\n",
            "                 Predicted Negative  Predicted Positive\n",
            "Actual Negative                9983                   0\n",
            "Actual Positive                  16                   1\n",
            "\n",
            "\n",
            "BEST ROC AUC SCORE is  0.882 at the threshold 0.1\n"
          ]
        }
      ]
    },
    {
      "cell_type": "code",
      "source": [
        "# Function to draw the ROC curve\n",
        "def draw_roc(actual, probs):\n",
        "    fpr, tpr, thresholds = metrics.roc_curve(actual, probs, drop_intermediate=False)\n",
        "    auc_score = metrics.roc_auc_score(actual, probs)\n",
        "    plt.figure(figsize=(5, 5))\n",
        "    plt.plot(fpr, tpr, label='ROC curve (area = %0.2f)' % auc_score)\n",
        "    plt.plot([0, 1], [0, 1], 'k--')\n",
        "    plt.xlim([0.0, 1.0])\n",
        "    plt.ylim([0.0, 1.0])\n",
        "    plt.xlabel('False Positive Rate or [1 - True Negative Rate]')\n",
        "    plt.ylabel('True Positive Rate')\n",
        "    plt.title('Receiver operating characteristic')\n",
        "    plt.legend(loc=\"lower right\")\n",
        "    plt.show()\n",
        "\n",
        "# Drawing ROC curve\n",
        "draw_roc(y_test, y_pred_proba_test[:, 1])"
      ],
      "metadata": {
        "id": "I0Zzq3dH4HWr",
        "colab": {
          "base_uri": "https://localhost:8080/",
          "height": 487
        },
        "outputId": "99d1f052-a470-41f8-9cc9-a520403bd89c"
      },
      "execution_count": null,
      "outputs": [
        {
          "output_type": "display_data",
          "data": {
            "text/plain": [
              "<Figure size 500x500 with 1 Axes>"
            ],
            "image/png": "[encoded data removed]"
          },
          "metadata": {}
        }
      ]
    },
    {
      "cell_type": "markdown",
      "source": [
        "## XGBOOST Implementation"
      ],
      "metadata": {
        "id": "ptWmK9mFmoyB"
      }
    },
    {
      "cell_type": "code",
      "source": [
        "!pip install xgboost\n"
      ],
      "metadata": {
        "colab": {
          "base_uri": "https://localhost:8080/"
        },
        "id": "kfbDzjmjMgPM",
        "outputId": "c6792ebb-2f26-45f8-e3cb-d37365e0e433"
      },
      "execution_count": null,
      "outputs": [
        {
          "output_type": "stream",
          "name": "stdout",
          "text": [
            "Collecting xgboost\n",
            "  Downloading xgboost-2.1.3-py3-none-manylinux_2_28_x86_64.whl.metadata (2.1 kB)\n",
            "Requirement already satisfied: numpy in /usr/local/lib/python3.10/dist-packages (from xgboost) (1.26.4)\n",
            "Collecting nvidia-nccl-cu12 (from xgboost)\n",
            "  Downloading nvidia_nccl_cu12-2.24.3-py3-none-manylinux2014_x86_64.manylinux_2_17_x86_64.whl.metadata (1.8 kB)\n",
            "Requirement already satisfied: scipy in /usr/local/lib/python3.10/dist-packages (from xgboost) (1.13.1)\n",
            "Downloading xgboost-2.1.3-py3-none-manylinux_2_28_x86_64.whl (153.9 MB)\n",
            "\u001b[2K   \u001b[90m━━━━━━━━━━━━━━━━━━━━━━━━━━━━━━━━━━━━━━━━\u001b[0m \u001b[32m153.9/153.9 MB\u001b[0m \u001b[31m6.9 MB/s\u001b[0m eta \u001b[36m0:00:00\u001b[0m\n",
            "\u001b[?25hDownloading nvidia_nccl_cu12-2.24.3-py3-none-manylinux2014_x86_64.manylinux_2_17_x86_64.whl (201.3 MB)\n",
            "\u001b[2K   \u001b[90m━━━━━━━━━━━━━━━━━━━━━━━━━━━━━━━━━━━━━━━━\u001b[0m \u001b[32m201.3/201.3 MB\u001b[0m \u001b[31m5.3 MB/s\u001b[0m eta \u001b[36m0:00:00\u001b[0m\n",
            "\u001b[?25hInstalling collected packages: nvidia-nccl-cu12, xgboost\n",
            "Successfully installed nvidia-nccl-cu12-2.24.3 xgboost-2.1.3\n"
          ]
        }
      ]
    },
    {
      "cell_type": "code",
      "source": [
        "data = pd.read_csv('/content/creditcard.csv')\n",
        "\n",
        "new_data = data.sample(n=15000, random_state=42)\n",
        "\n",
        "X = new_data.drop(columns=['Class'])\n",
        "y = new_data['Class']\n"
      ],
      "metadata": {
        "id": "4FTm9GIshLEc"
      },
      "execution_count": null,
      "outputs": []
    },
    {
      "cell_type": "code",
      "source": [
        "import pandas as pd\n",
        "import numpy as np\n",
        "from sklearn.model_selection import train_test_split\n",
        "from sklearn.metrics import roc_auc_score, classification_report, confusion_matrix\n",
        "from xgboost import XGBClassifier\n",
        "import matplotlib.pyplot as plt\n",
        "\n",
        "# Load dataset\n",
        "\n",
        "\n",
        "# Splitting into train and test sets\n",
        "X_train, X_test, y_train, y_test = train_test_split(X, y, test_size=0.2, random_state=42, stratify=y)\n",
        "\n",
        "# Define XGBoost model with some basic parameters\n",
        "xgb_model = XGBClassifier(\n",
        "    n_estimators=100,\n",
        "    max_depth=5,\n",
        "    learning_rate=0.1,\n",
        "    random_state=42,\n",
        "    use_label_encoder=False,\n",
        "    eval_metric='logloss'\n",
        ")\n",
        "\n",
        "# Fit the model\n",
        "xgb_model.fit(X_train, y_train)\n",
        "\n",
        "# Make predictions and calculate probabilities\n",
        "y_pred_proba = xgb_model.predict_proba(X_test)[:, 1]\n",
        "y_pred = xgb_model.predict(X_test)\n",
        "\n",
        "# Evaluate the model\n",
        "roc_auc = roc_auc_score(y_test, y_pred_proba)\n",
        "print(f\"ROC AUC Score: {roc_auc:.3f}\")\n",
        "\n",
        "print(\"\\nClassification Report:\")\n",
        "print(classification_report(y_test, y_pred))\n",
        "\n",
        "print(\"\\nConfusion Matrix:\")\n",
        "conf_matrix = confusion_matrix(y_test, y_pred)\n",
        "print(pd.DataFrame(conf_matrix, columns=['Predicted Negative', 'Predicted Positive'],\n",
        "                   index=['Actual Negative', 'Actual Positive']))\n",
        "\n",
        "# Plot ROC Curve\n",
        "def plot_roc(actual, probs):\n",
        "    from sklearn.metrics import roc_curve\n",
        "    fpr, tpr, _ = roc_curve(actual, probs)\n",
        "    plt.figure(figsize=(7, 7))\n",
        "    plt.plot(fpr, tpr, label=f'ROC Curve (AUC = {roc_auc:.2f})')\n",
        "    plt.plot([0, 1], [0, 1], 'k--')\n",
        "    plt.xlabel('False Positive Rate')\n",
        "    plt.ylabel('True Positive Rate')\n",
        "    plt.title('ROC Curve')\n",
        "    plt.legend(loc='lower right')\n",
        "    plt.show()\n",
        "\n",
        "plot_roc(y_test, y_pred_proba)\n"
      ],
      "metadata": {
        "colab": {
          "base_uri": "https://localhost:8080/",
          "height": 1000
        },
        "id": "7gnRd0J3Nj7E",
        "outputId": "7ae8b0b2-422f-4375-dea4-6cf0f0ec6117"
      },
      "execution_count": null,
      "outputs": [
        {
          "output_type": "stream",
          "name": "stderr",
          "text": [
            "/usr/local/lib/python3.10/dist-packages/xgboost/core.py:158: UserWarning: [06:35:32] WARNING: /workspace/src/learner.cc:740: \n",
            "Parameters: { \"use_label_encoder\" } are not used.\n",
            "\n",
            "  warnings.warn(smsg, UserWarning)\n"
          ]
        },
        {
          "output_type": "stream",
          "name": "stdout",
          "text": [
            "ROC AUC Score: 0.995\n",
            "\n",
            "Classification Report:\n",
            "              precision    recall  f1-score   support\n",
            "\n",
            "           0       1.00      1.00      1.00      2996\n",
            "           1       1.00      0.75      0.86         4\n",
            "\n",
            "    accuracy                           1.00      3000\n",
            "   macro avg       1.00      0.88      0.93      3000\n",
            "weighted avg       1.00      1.00      1.00      3000\n",
            "\n",
            "\n",
            "Confusion Matrix:\n",
            "                 Predicted Negative  Predicted Positive\n",
            "Actual Negative                2996                   0\n",
            "Actual Positive                   1                   3\n"
          ]
        },
        {
          "output_type": "display_data",
          "data": {
            "text/plain": [
              "<Figure size 700x700 with 1 Axes>"
            ],
            "image/png": "[encoded data removed]"
          },
          "metadata": {}
        }
      ]
    },
    {
      "cell_type": "markdown",
      "source": [
        "## SMOTE Implementation with Random Forest"
      ],
      "metadata": {
        "id": "cOiZ-A8OngNh"
      }
    },
    {
      "cell_type": "code",
      "source": [
        "!pip install imblearn"
      ],
      "metadata": {
        "colab": {
          "base_uri": "https://localhost:8080/"
        },
        "id": "Qf1k-WQWoVuX",
        "outputId": "40c5b294-f5fc-45ab-be14-ac53209958e9"
      },
      "execution_count": null,
      "outputs": [
        {
          "output_type": "stream",
          "name": "stdout",
          "text": [
            "Collecting imblearn\n",
            "  Downloading imblearn-0.0-py2.py3-none-any.whl.metadata (355 bytes)\n",
            "Collecting imbalanced-learn (from imblearn)\n",
            "  Downloading imbalanced_learn-0.13.0-py3-none-any.whl.metadata (8.8 kB)\n",
            "Requirement already satisfied: numpy<3,>=1.24.3 in /usr/local/lib/python3.10/dist-packages (from imbalanced-learn->imblearn) (1.26.4)\n",
            "Requirement already satisfied: scipy<2,>=1.10.1 in /usr/local/lib/python3.10/dist-packages (from imbalanced-learn->imblearn) (1.13.1)\n",
            "Requirement already satisfied: scikit-learn<2,>=1.3.2 in /usr/local/lib/python3.10/dist-packages (from imbalanced-learn->imblearn) (1.6.0)\n",
            "Collecting sklearn-compat<1,>=0.1 (from imbalanced-learn->imblearn)\n",
            "  Downloading sklearn_compat-0.1.3-py3-none-any.whl.metadata (18 kB)\n",
            "Requirement already satisfied: joblib<2,>=1.1.1 in /usr/local/lib/python3.10/dist-packages (from imbalanced-learn->imblearn) (1.4.2)\n",
            "Requirement already satisfied: threadpoolctl<4,>=2.0.0 in /usr/local/lib/python3.10/dist-packages (from imbalanced-learn->imblearn) (3.5.0)\n",
            "Downloading imblearn-0.0-py2.py3-none-any.whl (1.9 kB)\n",
            "Downloading imbalanced_learn-0.13.0-py3-none-any.whl (238 kB)\n",
            "\u001b[2K   \u001b[90m━━━━━━━━━━━━━━━━━━━━━━━━━━━━━━━━━━━━━━━━\u001b[0m \u001b[32m238.4/238.4 kB\u001b[0m \u001b[31m5.8 MB/s\u001b[0m eta \u001b[36m0:00:00\u001b[0m\n",
            "\u001b[?25hDownloading sklearn_compat-0.1.3-py3-none-any.whl (18 kB)\n",
            "Installing collected packages: sklearn-compat, imbalanced-learn, imblearn\n",
            "Successfully installed imbalanced-learn-0.13.0 imblearn-0.0 sklearn-compat-0.1.3\n"
          ]
        }
      ]
    },
    {
      "cell_type": "code",
      "source": [
        "from sklearn.ensemble import RandomForestClassifier\n",
        "from sklearn.model_selection import GridSearchCV, KFold, train_test_split\n",
        "from sklearn import metrics\n",
        "from sklearn.metrics import roc_auc_score, recall_score\n",
        "import pandas as pd\n",
        "import numpy as np\n",
        "import matplotlib.pyplot as plt\n",
        "from imblearn.over_sampling import SMOTE\n",
        "\n",
        "data = pd.read_csv('/content/creditcard.csv')\n",
        "new_data = data.sample(n=15000, random_state=42)\n",
        "X = new_data.drop(columns=['Class'])\n",
        "y = new_data['Class']\n",
        "\n",
        "# Splitting the data into training and testing sets\n",
        "X_train, X_test, y_train, y_test = train_test_split(X, y, test_size=0.2, random_state=42, stratify=y)\n",
        "\n",
        "# Apply SMOTE to balance the training data\n",
        "smote = SMOTE(random_state=42)\n",
        "X_train_resampled, y_train_resampled = smote.fit_resample(X_train, y_train)\n",
        "\n",
        "# Initialize the Random Forest model\n",
        "rf = RandomForestClassifier(random_state=42)\n",
        "\n",
        "# Set up folds for cross-validation\n",
        "cv = KFold(3, shuffle=True, random_state=42)\n",
        "\n",
        "# Set up the parameter grid for GridSearchCV\n",
        "param_grid = {\n",
        "    'n_estimators': [50, 100, 200],\n",
        "    'max_depth': [None, 10, 20],\n",
        "    'min_samples_split': [2, 5, 10]\n",
        "}\n",
        "\n",
        "# Perform grid search with cross-validation\n",
        "grid = GridSearchCV(rf,\n",
        "                    param_grid=param_grid,\n",
        "                    scoring='roc_auc',\n",
        "                    cv=cv,\n",
        "                    n_jobs=-1,\n",
        "                    verbose=1000)\n",
        "\n",
        "# Fit the grid search model using resampled data\n",
        "grid.fit(X_train_resampled, y_train_resampled)\n",
        "\n",
        "# Print the best score and parameters\n",
        "print(\"BEST GRID SCORE\", grid.best_score_)\n",
        "print(\"BEST GRID PARAMS\")\n",
        "print(grid.best_params_)\n",
        "\n",
        "# Take the best estimator from grid search and fit it\n",
        "best_rf = grid.best_estimator_\n",
        "best_rf.fit(X_train_resampled, y_train_resampled)\n",
        "\n",
        "# Get probabilities for model evaluation with different thresholds\n",
        "y_pred_proba_test = best_rf.predict_proba(X_test)\n",
        "\n",
        "# Function to evaluate the model at different thresholds\n",
        "def model_evaluation(y_pred_proba_test):\n",
        "    # Report metrics at different thresholds\n",
        "    thresholds = [i * 0.1 for i in range(0, 10)]\n",
        "    print(\"----------------------------Results----------------------------\")\n",
        "\n",
        "    # Initialize best ROC AUC score\n",
        "    best_roc_score = 0\n",
        "\n",
        "    # Iterate through thresholds from 0.1 to 0.9\n",
        "    for threshold in thresholds:\n",
        "        y_pred = np.where(y_pred_proba_test[:, 1] > threshold, 1, 0)\n",
        "\n",
        "        # Calculate performance metrics\n",
        "        accuracy = str(round(metrics.accuracy_score(y_test, y_pred), 3))\n",
        "        precision = str(round(metrics.precision_score(y_test, y_pred), 3))\n",
        "        recall = str(round(metrics.recall_score(y_test, y_pred), 3))\n",
        "        roc_auc = str(round(metrics.roc_auc_score(y_test, y_pred), 3))\n",
        "\n",
        "        # Update best ROC AUC score if current score is higher\n",
        "        if float(roc_auc) > best_roc_score:\n",
        "            best_roc_score = float(roc_auc)\n",
        "            best_threshold = threshold\n",
        "            best_recall_score = recall\n",
        "\n",
        "        # Print metrics for the current threshold\n",
        "        print(\"----------for Test with threshold\", round(threshold, 2), \"----------\")\n",
        "        print(\"accuracy\\tprecision\\trecall\\t\\troc_auc\")\n",
        "        print(\"\\t\\t\".join([accuracy, precision, recall, roc_auc]))\n",
        "        print(\"\\n\")\n",
        "\n",
        "        # Print confusion matrix\n",
        "        print(\"\\t\\tCONFUSION MATRIX\")\n",
        "        confusion_matrix = pd.DataFrame(metrics.confusion_matrix(y_test, y_pred),\n",
        "                                        columns=['Predicted Negative', 'Predicted Positive'],\n",
        "                                        index=['Actual Negative', 'Actual Positive'])\n",
        "        print(confusion_matrix)\n",
        "        print(\"\\n\")\n",
        "\n",
        "    # Print the best ROC AUC score and corresponding threshold\n",
        "    print(\"BEST ROC AUC SCORE is \", best_roc_score, \"at the threshold\", best_threshold)\n",
        "    return best_roc_score, best_threshold, best_recall_score\n",
        "\n",
        "# Evaluate the model\n",
        "best_roc_score, best_threshold, best_recall_score = model_evaluation(y_pred_proba_test)\n",
        "\n",
        "# Function to draw the ROC curve\n",
        "def draw_roc(actual, probs):\n",
        "    fpr, tpr, thresholds = metrics.roc_curve(actual, probs, drop_intermediate=False)\n",
        "    auc_score = metrics.roc_auc_score(actual, probs)\n",
        "    plt.figure(figsize=(5, 5))\n",
        "    plt.plot(fpr, tpr, label='ROC curve (area = %0.2f)' % auc_score)\n",
        "    plt.plot([0, 1], [0, 1], 'k--')\n",
        "    plt.xlim([0.0, 1.0])\n",
        "    plt.ylim([0.0, 1.0])\n",
        "    plt.xlabel('False Positive Rate or [1 - True Negative Rate]')\n",
        "    plt.ylabel('True Positive Rate')\n",
        "    plt.title('Receiver operating characteristic')\n",
        "    plt.legend(loc=\"lower right\")\n",
        "    plt.show()\n",
        "\n",
        "# Draw the ROC curve\n",
        "draw_roc(y_test, y_pred_proba_test[:, 1])\n"
      ],
      "metadata": {
        "colab": {
          "base_uri": "https://localhost:8080/",
          "height": 1000
        },
        "id": "CnbhSygXnne1",
        "outputId": "d6e2f79c-977d-42a7-dae1-47f18032e255"
      },
      "execution_count": null,
      "outputs": [
        {
          "output_type": "stream",
          "name": "stdout",
          "text": [
            "Fitting 3 folds for each of 27 candidates, totalling 81 fits\n",
            "BEST GRID SCORE 0.9999999582072027\n",
            "BEST GRID PARAMS\n",
            "{'max_depth': None, 'min_samples_split': 2, 'n_estimators': 50}\n",
            "----------------------------Results----------------------------\n",
            "----------for Test with threshold 0.0 ----------\n",
            "accuracy\tprecision\trecall\t\troc_auc\n",
            "0.915\t\t0.015\t\t1.0\t\t0.957\n",
            "\n",
            "\n",
            "\t\tCONFUSION MATRIX\n",
            "                 Predicted Negative  Predicted Positive\n",
            "Actual Negative                2741                 255\n",
            "Actual Positive                   0                   4\n",
            "\n",
            "\n",
            "----------for Test with threshold 0.1 ----------\n",
            "accuracy\tprecision\trecall\t\troc_auc\n",
            "0.997\t\t0.273\t\t0.75\t\t0.874\n",
            "\n",
            "\n",
            "\t\tCONFUSION MATRIX\n",
            "                 Predicted Negative  Predicted Positive\n",
            "Actual Negative                2988                   8\n",
            "Actual Positive                   1                   3\n",
            "\n",
            "\n",
            "----------for Test with threshold 0.2 ----------\n",
            "accuracy\tprecision\trecall\t\troc_auc\n",
            "0.999\t\t0.5\t\t0.75\t\t0.874\n",
            "\n",
            "\n",
            "\t\tCONFUSION MATRIX\n",
            "                 Predicted Negative  Predicted Positive\n",
            "Actual Negative                2993                   3\n",
            "Actual Positive                   1                   3\n",
            "\n",
            "\n",
            "----------for Test with threshold 0.3 ----------\n",
            "accuracy\tprecision\trecall\t\troc_auc\n",
            "1.0\t\t1.0\t\t0.75\t\t0.875\n",
            "\n",
            "\n",
            "\t\tCONFUSION MATRIX\n",
            "                 Predicted Negative  Predicted Positive\n",
            "Actual Negative                2996                   0\n",
            "Actual Positive                   1                   3\n",
            "\n",
            "\n",
            "----------for Test with threshold 0.4 ----------\n",
            "accuracy\tprecision\trecall\t\troc_auc\n",
            "1.0\t\t1.0\t\t0.75\t\t0.875\n",
            "\n",
            "\n",
            "\t\tCONFUSION MATRIX\n",
            "                 Predicted Negative  Predicted Positive\n",
            "Actual Negative                2996                   0\n",
            "Actual Positive                   1                   3\n",
            "\n",
            "\n",
            "----------for Test with threshold 0.5 ----------\n",
            "accuracy\tprecision\trecall\t\troc_auc\n",
            "1.0\t\t1.0\t\t0.75\t\t0.875\n",
            "\n",
            "\n",
            "\t\tCONFUSION MATRIX\n",
            "                 Predicted Negative  Predicted Positive\n",
            "Actual Negative                2996                   0\n",
            "Actual Positive                   1                   3\n",
            "\n",
            "\n",
            "----------for Test with threshold 0.6 ----------\n",
            "accuracy\tprecision\trecall\t\troc_auc\n",
            "0.999\t\t1.0\t\t0.5\t\t0.75\n",
            "\n",
            "\n",
            "\t\tCONFUSION MATRIX\n",
            "                 Predicted Negative  Predicted Positive\n",
            "Actual Negative                2996                   0\n",
            "Actual Positive                   2                   2\n",
            "\n",
            "\n",
            "----------for Test with threshold 0.7 ----------\n",
            "accuracy\tprecision\trecall\t\troc_auc\n",
            "0.999\t\t0.0\t\t0.0\t\t0.5\n",
            "\n",
            "\n",
            "\t\tCONFUSION MATRIX\n",
            "                 Predicted Negative  Predicted Positive\n",
            "Actual Negative                2996                   0\n",
            "Actual Positive                   4                   0\n",
            "\n",
            "\n",
            "----------for Test with threshold 0.8 ----------\n",
            "accuracy\tprecision\trecall\t\troc_auc\n",
            "0.999\t\t0.0\t\t0.0\t\t0.5\n",
            "\n",
            "\n",
            "\t\tCONFUSION MATRIX\n",
            "                 Predicted Negative  Predicted Positive\n",
            "Actual Negative                2996                   0\n",
            "Actual Positive                   4                   0\n",
            "\n",
            "\n",
            "----------for Test with threshold 0.9 ----------\n",
            "accuracy\tprecision\trecall\t\troc_auc\n",
            "0.999\t\t0.0\t\t0.0\t\t0.5\n",
            "\n",
            "\n",
            "\t\tCONFUSION MATRIX\n",
            "                 Predicted Negative  Predicted Positive\n",
            "Actual Negative                2996                   0\n",
            "Actual Positive                   4                   0\n",
            "\n",
            "\n",
            "BEST ROC AUC SCORE is  0.957 at the threshold 0.0\n"
          ]
        },
        {
          "output_type": "stream",
          "name": "stderr",
          "text": [
            "/usr/local/lib/python3.10/dist-packages/sklearn/metrics/_classification.py:1565: UndefinedMetricWarning: Precision is ill-defined and being set to 0.0 due to no predicted samples. Use `zero_division` parameter to control this behavior.\n",
            "  _warn_prf(average, modifier, f\"{metric.capitalize()} is\", len(result))\n",
            "/usr/local/lib/python3.10/dist-packages/sklearn/metrics/_classification.py:1565: UndefinedMetricWarning: Precision is ill-defined and being set to 0.0 due to no predicted samples. Use `zero_division` parameter to control this behavior.\n",
            "  _warn_prf(average, modifier, f\"{metric.capitalize()} is\", len(result))\n",
            "/usr/local/lib/python3.10/dist-packages/sklearn/metrics/_classification.py:1565: UndefinedMetricWarning: Precision is ill-defined and being set to 0.0 due to no predicted samples. Use `zero_division` parameter to control this behavior.\n",
            "  _warn_prf(average, modifier, f\"{metric.capitalize()} is\", len(result))\n"
          ]
        },
        {
          "output_type": "display_data",
          "data": {
            "text/plain": [
              "<Figure size 500x500 with 1 Axes>"
            ],
            "image/png": "[encoded data removed]"
          },
          "metadata": {}
        }
      ]
    },
    {
      "cell_type": "markdown",
      "source": [
        "SMOTE With XG BOOST\n"
      ],
      "metadata": {
        "id": "k-rHLK-2pa9M"
      }
    },
    {
      "cell_type": "code",
      "source": [
        "data = pd.read_csv('/content/creditcard.csv')\n",
        "\n",
        "# Randomly sample 15,000 rows without replacement\n",
        "new_data = data.sample(n=15000, random_state=42)\n",
        "\n",
        "# Splitting dataset into features and target\n",
        "X = new_data.drop(columns=['Class'])\n",
        "y = new_data['Class']"
      ],
      "metadata": {
        "id": "pY7rzz3nphRt"
      },
      "execution_count": null,
      "outputs": []
    },
    {
      "cell_type": "code",
      "source": [
        "pip install imbalanced-learn\n"
      ],
      "metadata": {
        "colab": {
          "base_uri": "https://localhost:8080/"
        },
        "id": "VuAO6oWbpw6L",
        "outputId": "a2383279-26fb-486c-8b56-8be1204ffa1b"
      },
      "execution_count": null,
      "outputs": [
        {
          "output_type": "stream",
          "name": "stdout",
          "text": [
            "Collecting imbalanced-learn\n",
            "  Downloading imbalanced_learn-0.13.0-py3-none-any.whl.metadata (8.8 kB)\n",
            "Requirement already satisfied: numpy<3,>=1.24.3 in /usr/local/lib/python3.10/dist-packages (from imbalanced-learn) (1.26.4)\n",
            "Requirement already satisfied: scipy<2,>=1.10.1 in /usr/local/lib/python3.10/dist-packages (from imbalanced-learn) (1.13.1)\n",
            "Requirement already satisfied: scikit-learn<2,>=1.3.2 in /usr/local/lib/python3.10/dist-packages (from imbalanced-learn) (1.6.0)\n",
            "Collecting sklearn-compat<1,>=0.1 (from imbalanced-learn)\n",
            "  Downloading sklearn_compat-0.1.3-py3-none-any.whl.metadata (18 kB)\n",
            "Requirement already satisfied: joblib<2,>=1.1.1 in /usr/local/lib/python3.10/dist-packages (from imbalanced-learn) (1.4.2)\n",
            "Requirement already satisfied: threadpoolctl<4,>=2.0.0 in /usr/local/lib/python3.10/dist-packages (from imbalanced-learn) (3.5.0)\n",
            "Downloading imbalanced_learn-0.13.0-py3-none-any.whl (238 kB)\n",
            "\u001b[2K   \u001b[90m━━━━━━━━━━━━━━━━━━━━━━━━━━━━━━━━━━━━━━━━\u001b[0m \u001b[32m238.4/238.4 kB\u001b[0m \u001b[31m5.3 MB/s\u001b[0m eta \u001b[36m0:00:00\u001b[0m\n",
            "\u001b[?25hDownloading sklearn_compat-0.1.3-py3-none-any.whl (18 kB)\n",
            "Installing collected packages: sklearn-compat, imbalanced-learn\n",
            "Successfully installed imbalanced-learn-0.13.0 sklearn-compat-0.1.3\n"
          ]
        }
      ]
    },
    {
      "cell_type": "code",
      "source": [
        "from imblearn.over_sampling import SMOTE\n",
        "from sklearn.ensemble import RandomForestClassifier\n",
        "from sklearn.model_selection import train_test_split, GridSearchCV, KFold\n",
        "from sklearn import metrics\n",
        "import pandas as pd\n",
        "\n",
        "# Splitting dataset into features and target\n",
        "\n",
        "\n",
        "# Splitting into train and test sets\n",
        "X_train, X_test, y_train, y_test = train_test_split(X, y, test_size=0.2, random_state=42, stratify=y)\n",
        "\n",
        "# Applying SMOTE for oversampling the minority class\n",
        "smote = SMOTE(sampling_strategy='minority', random_state=42)\n",
        "X_smote, y_smote = smote.fit_resample(X_train, y_train)\n",
        "\n",
        "# Initial Random Forest model\n",
        "rf = RandomForestClassifier(random_state=42)\n",
        "\n",
        "# Folds for cross-validation\n",
        "cv = KFold(3, shuffle=True, random_state=42)\n",
        "\n",
        "# Setting parameters\n",
        "param_grid = {\n",
        "    'n_estimators': [50, 100, 200],\n",
        "    'max_depth': [None, 10, 20],\n",
        "    'min_samples_split': [2, 5, 10]\n",
        "}\n",
        "\n",
        "# Grid search for running model with every possible combination\n",
        "grid = GridSearchCV(rf,\n",
        "                    param_grid=param_grid,\n",
        "                    scoring='roc_auc',\n",
        "                    cv=cv,\n",
        "                    n_jobs=-1,\n",
        "                    verbose=1000)\n",
        "\n",
        "# Fitting the grid search using SMOTE-balanced training data\n",
        "grid.fit(X_smote, y_smote)\n",
        "\n",
        "print(\"BEST GRID SCORE\", grid.best_score_)\n",
        "print(\"BEST GRID PARAMS\")\n",
        "print(grid.best_params_)\n",
        "\n",
        "# Taking the best estimator and fitting data\n",
        "best_rf = grid.best_estimator_\n",
        "best_rf.fit(X_smote, y_smote)\n",
        "\n",
        "# Taking probabilities for model evaluation with different thresholds\n",
        "y_pred_proba_test = best_rf.predict_proba(X_test)\n",
        "\n",
        "\n",
        "\n"
      ],
      "metadata": {
        "colab": {
          "base_uri": "https://localhost:8080/"
        },
        "id": "pXJZLSVCpd3B",
        "outputId": "ec5c78bd-1bdb-4026-fd4f-2b90435cf8d4"
      },
      "execution_count": null,
      "outputs": [
        {
          "output_type": "stream",
          "name": "stdout",
          "text": [
            "Fitting 3 folds for each of 27 candidates, totalling 81 fits\n",
            "BEST GRID SCORE 0.9999999582072027\n",
            "BEST GRID PARAMS\n",
            "{'max_depth': None, 'min_samples_split': 2, 'n_estimators': 50}\n"
          ]
        }
      ]
    },
    {
      "cell_type": "code",
      "source": [
        "def model_evaluation(y_pred_proba_test):\n",
        "    # Report metrics at different thresholds\n",
        "    thresholds = [i * 0.1 for i in range(0, 10)]\n",
        "    print(\"----------------------------Results----------------------------\")\n",
        "\n",
        "    # Initialize best ROC AUC score\n",
        "    best_roc_score = 0\n",
        "\n",
        "    # Iterate through thresholds from 0.1 to 0.9\n",
        "    for threshold in thresholds:\n",
        "        y_pred = np.where(y_pred_proba_test[:, 1] > threshold, 1, 0)\n",
        "\n",
        "        # Calculate performance metrics\n",
        "        accuracy = str(round(metrics.accuracy_score(y_test, y_pred), 3))\n",
        "        precision = str(round(metrics.precision_score(y_test, y_pred), 3))\n",
        "        recall = str(round(metrics.recall_score(y_test, y_pred), 3))\n",
        "        roc_auc = str(round(metrics.roc_auc_score(y_test, y_pred), 3))\n",
        "\n",
        "        # Update best ROC AUC score if current score is higher\n",
        "        if float(roc_auc) > best_roc_score:\n",
        "            best_roc_score = float(roc_auc)\n",
        "            best_threshold = threshold\n",
        "            best_recall_score = recall\n",
        "\n",
        "        # Print metrics for the current threshold\n",
        "        print(\"----------for Test with threshold\", round(threshold, 2), \"----------\")\n",
        "        print(\"accuracy\\tprecision\\trecall\\t\\troc_auc\")\n",
        "        print(\"\\t\\t\".join([accuracy, precision, recall, roc_auc]))\n",
        "        print(\"\\n\")\n",
        "\n",
        "        # Print confusion matrix\n",
        "        print(\"\\t\\tCONFUSION MATRIX\")\n",
        "        confusion_matrix = pd.DataFrame(metrics.confusion_matrix(y_test, y_pred),\n",
        "                                        columns=['Predicted Negative', 'Predicted Positive'],\n",
        "                                        index=['Actual Negative', 'Actual Positive'])\n",
        "        print(confusion_matrix)\n",
        "        print(\"\\n\")\n",
        "\n",
        "    # Print the best ROC AUC score and corresponding threshold\n",
        "    print(\"BEST ROC AUC SCORE is \", best_roc_score, \"at the threshold\", best_threshold)\n",
        "    return best_roc_score, best_threshold, best_recall_score"
      ],
      "metadata": {
        "id": "uWHcycgHqorA"
      },
      "execution_count": null,
      "outputs": []
    },
    {
      "cell_type": "code",
      "source": [
        "# Initialize the results DataFrame if it doesn't exist\n",
        "try:\n",
        "    results\n",
        "except NameError:\n",
        "    # Define `results` DataFrame structure\n",
        "    results = pd.DataFrame(columns=['model_name', 'threshold', 'recall', 'roc_auc_score'])\n",
        "\n",
        "# Model Evaluation\n",
        "best_roc_score, best_threshold, best_recall_score = model_evaluation(y_pred_proba_test)\n",
        "\n",
        "# Storing the results\n",
        "data = pd.DataFrame([['RANDOM FOREST WITH SMOTE', best_threshold, best_recall_score, best_roc_score]],\n",
        "                    columns=results.columns)\n",
        "results = pd.concat([results, data], ignore_index=True)\n",
        "\n",
        "# Display the results\n",
        "print(results)\n"
      ],
      "metadata": {
        "colab": {
          "base_uri": "https://localhost:8080/"
        },
        "id": "KcufLvtBqtCp",
        "outputId": "018b2768-e22c-46e9-bda1-d1771c81e1c8"
      },
      "execution_count": null,
      "outputs": [
        {
          "output_type": "stream",
          "name": "stdout",
          "text": [
            "----------------------------Results----------------------------\n",
            "----------for Test with threshold 0.0 ----------\n",
            "accuracy\tprecision\trecall\t\troc_auc\n",
            "0.915\t\t0.015\t\t1.0\t\t0.957\n",
            "\n",
            "\n",
            "\t\tCONFUSION MATRIX\n",
            "                 Predicted Negative  Predicted Positive\n",
            "Actual Negative                2741                 255\n",
            "Actual Positive                   0                   4\n",
            "\n",
            "\n",
            "----------for Test with threshold 0.1 ----------\n",
            "accuracy\tprecision\trecall\t\troc_auc\n",
            "0.997\t\t0.273\t\t0.75\t\t0.874\n",
            "\n",
            "\n",
            "\t\tCONFUSION MATRIX\n",
            "                 Predicted Negative  Predicted Positive\n",
            "Actual Negative                2988                   8\n",
            "Actual Positive                   1                   3\n",
            "\n",
            "\n",
            "----------for Test with threshold 0.2 ----------\n",
            "accuracy\tprecision\trecall\t\troc_auc\n",
            "0.999\t\t0.5\t\t0.75\t\t0.874\n",
            "\n",
            "\n",
            "\t\tCONFUSION MATRIX\n",
            "                 Predicted Negative  Predicted Positive\n",
            "Actual Negative                2993                   3\n",
            "Actual Positive                   1                   3\n",
            "\n",
            "\n",
            "----------for Test with threshold 0.3 ----------\n",
            "accuracy\tprecision\trecall\t\troc_auc\n",
            "1.0\t\t1.0\t\t0.75\t\t0.875\n",
            "\n",
            "\n",
            "\t\tCONFUSION MATRIX\n",
            "                 Predicted Negative  Predicted Positive\n",
            "Actual Negative                2996                   0\n",
            "Actual Positive                   1                   3\n",
            "\n",
            "\n",
            "----------for Test with threshold 0.4 ----------\n",
            "accuracy\tprecision\trecall\t\troc_auc\n",
            "1.0\t\t1.0\t\t0.75\t\t0.875\n",
            "\n",
            "\n",
            "\t\tCONFUSION MATRIX\n",
            "                 Predicted Negative  Predicted Positive\n",
            "Actual Negative                2996                   0\n",
            "Actual Positive                   1                   3\n",
            "\n",
            "\n",
            "----------for Test with threshold 0.5 ----------\n",
            "accuracy\tprecision\trecall\t\troc_auc\n",
            "1.0\t\t1.0\t\t0.75\t\t0.875\n",
            "\n",
            "\n",
            "\t\tCONFUSION MATRIX\n",
            "                 Predicted Negative  Predicted Positive\n",
            "Actual Negative                2996                   0\n",
            "Actual Positive                   1                   3\n",
            "\n",
            "\n",
            "----------for Test with threshold 0.6 ----------\n",
            "accuracy\tprecision\trecall\t\troc_auc\n",
            "0.999\t\t1.0\t\t0.5\t\t0.75\n",
            "\n",
            "\n",
            "\t\tCONFUSION MATRIX\n",
            "                 Predicted Negative  Predicted Positive\n",
            "Actual Negative                2996                   0\n",
            "Actual Positive                   2                   2\n",
            "\n",
            "\n",
            "----------for Test with threshold 0.7 ----------\n",
            "accuracy\tprecision\trecall\t\troc_auc\n",
            "0.999\t\t0.0\t\t0.0\t\t0.5\n",
            "\n",
            "\n",
            "\t\tCONFUSION MATRIX\n",
            "                 Predicted Negative  Predicted Positive\n",
            "Actual Negative                2996                   0\n",
            "Actual Positive                   4                   0\n",
            "\n",
            "\n",
            "----------for Test with threshold 0.8 ----------\n",
            "accuracy\tprecision\trecall\t\troc_auc\n",
            "0.999\t\t0.0\t\t0.0\t\t0.5\n",
            "\n",
            "\n",
            "\t\tCONFUSION MATRIX\n",
            "                 Predicted Negative  Predicted Positive\n",
            "Actual Negative                2996                   0\n",
            "Actual Positive                   4                   0\n",
            "\n",
            "\n",
            "----------for Test with threshold 0.9 ----------\n",
            "accuracy\tprecision\trecall\t\troc_auc\n",
            "0.999\t\t0.0\t\t0.0\t\t0.5\n",
            "\n",
            "\n",
            "\t\tCONFUSION MATRIX\n",
            "                 Predicted Negative  Predicted Positive\n",
            "Actual Negative                2996                   0\n",
            "Actual Positive                   4                   0\n",
            "\n",
            "\n",
            "BEST ROC AUC SCORE is  0.957 at the threshold 0.0\n",
            "                 model_name  threshold recall  roc_auc_score\n",
            "0  RANDOM FOREST WITH SMOTE        0.0    1.0          0.957\n"
          ]
        },
        {
          "output_type": "stream",
          "name": "stderr",
          "text": [
            "/usr/local/lib/python3.10/dist-packages/sklearn/metrics/_classification.py:1565: UndefinedMetricWarning: Precision is ill-defined and being set to 0.0 due to no predicted samples. Use `zero_division` parameter to control this behavior.\n",
            "  _warn_prf(average, modifier, f\"{metric.capitalize()} is\", len(result))\n",
            "/usr/local/lib/python3.10/dist-packages/sklearn/metrics/_classification.py:1565: UndefinedMetricWarning: Precision is ill-defined and being set to 0.0 due to no predicted samples. Use `zero_division` parameter to control this behavior.\n",
            "  _warn_prf(average, modifier, f\"{metric.capitalize()} is\", len(result))\n",
            "/usr/local/lib/python3.10/dist-packages/sklearn/metrics/_classification.py:1565: UndefinedMetricWarning: Precision is ill-defined and being set to 0.0 due to no predicted samples. Use `zero_division` parameter to control this behavior.\n",
            "  _warn_prf(average, modifier, f\"{metric.capitalize()} is\", len(result))\n",
            "<ipython-input-13-bee49365975a>:14: FutureWarning: The behavior of DataFrame concatenation with empty or all-NA entries is deprecated. In a future version, this will no longer exclude empty or all-NA columns when determining the result dtypes. To retain the old behavior, exclude the relevant entries before the concat operation.\n",
            "  results = pd.concat([results, data], ignore_index=True)\n"
          ]
        }
      ]
    },
    {
      "cell_type": "code",
      "source": [
        "def draw_roc(actual, probs):\n",
        "    fpr, tpr, thresholds = metrics.roc_curve(actual, probs, drop_intermediate=False)\n",
        "    auc_score = metrics.roc_auc_score(actual, probs)\n",
        "    plt.figure(figsize=(5, 5))\n",
        "    plt.plot(fpr, tpr, label='ROC curve (area = %0.2f)' % auc_score)\n",
        "    plt.plot([0, 1], [0, 1], 'k--')\n",
        "    plt.xlim([0.0, 1.0])\n",
        "    plt.ylim([0.0, 1.0])\n",
        "    plt.xlabel('False Positive Rate or [1 - True Negative Rate]')\n",
        "    plt.ylabel('True Positive Rate')\n",
        "    plt.title('Receiver operating characteristic')\n",
        "    plt.legend(loc=\"lower right\")\n",
        "    plt.show()\n",
        "\n",
        "# Draw the ROC curve\n",
        "draw_roc(y_test, y_pred_proba_test[:, 1])"
      ],
      "metadata": {
        "colab": {
          "base_uri": "https://localhost:8080/",
          "height": 487
        },
        "id": "HTFCszK5rak1",
        "outputId": "0116957a-27a0-4c4b-c6cb-d3ad8fc436f7"
      },
      "execution_count": null,
      "outputs": [
        {
          "output_type": "display_data",
          "data": {
            "text/plain": [
              "<Figure size 500x500 with 1 Axes>"
            ],
            "image/png": "[encoded data removed]"
          },
          "metadata": {}
        }
      ]
    },
    {
      "cell_type": "markdown",
      "source": [
        "Observations:\n",
        "\n",
        "XGBoost:\n",
        "\n",
        "Without SMOTE, XGBoost achieved the highest ROC AUC score of 0.995, indicating exceptional performance in distinguishing between the positive and negative classes.\n",
        "With SMOTE, the performance slightly decreased to 0.957. This could indicate that SMOTE might not be necessary or even slightly detrimental for XGBoost in this particular case.\n",
        "Random Forest:\n",
        "\n",
        "Without SMOTE, the Random Forest achieved a good ROC AUC score of 0.882.\n",
        "With SMOTE, the performance significantly improved to 0.957, demonstrating that addressing class imbalance through SMOTE was beneficial for the Random Forest model.\n",
        "Threshold:\n",
        "\n",
        "Both Random Forest with SMOTE and XGBoost with SMOTE achieved their best ROC AUC scores at a threshold of 0.0. This suggests that a very low threshold might be necessary to maximize true positive rates, potentially leading to a higher number of false positives.\n",
        "Analysis:\n",
        "\n",
        "Impact of SMOTE:\n",
        "\n",
        "SMOTE had a substantial positive impact on the Random Forest's performance, suggesting that the original dataset likely suffered from class imbalance.\n",
        "For XGBoost, SMOTE did not significantly improve performance and might even have slightly hindered it. This could be due to XGBoost's inherent ability to handle class imbalance or the specific characteristics of the dataset.\n",
        "Model Comparison:\n",
        "\n",
        "While XGBoost without SMOTE exhibited the highest overall performance, Random Forest with SMOTE demonstrated a significant improvement and achieved a competitive score of 0.957."
      ],
      "metadata": {
        "id": "QyILSNkxvlgA"
      }
    },
    {
      "cell_type": "markdown",
      "source": [],
      "metadata": {
        "id": "9DzYMeIvvnuK"
      }
    }
  ]
}